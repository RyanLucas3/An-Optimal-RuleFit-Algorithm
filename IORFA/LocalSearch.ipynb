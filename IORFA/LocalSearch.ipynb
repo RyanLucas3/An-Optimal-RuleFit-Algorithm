{
 "cells": [
  {
   "cell_type": "code",
   "execution_count": 271,
   "metadata": {},
   "outputs": [],
   "source": [
    "import sys\n",
    "sys.path.append(\"..\")"
   ]
  },
  {
   "cell_type": "code",
   "execution_count": 272,
   "metadata": {},
   "outputs": [],
   "source": [
    "import gurobipy\n",
    "import pandas as pd\n",
    "from IORFA import *\n",
    "import numpy as np\n",
    "import time\n",
    "from sklearn.metrics import r2_score\n",
    "import matplotlib.pyplot as plt\n",
    "from sklearn.model_selection import train_test_split\n",
    "from sklearn.datasets import make_regression\n",
    "from sklearn.preprocessing import MinMaxScaler\n",
    "from sklearn.tree import DecisionTreeRegressor\n",
    "from sklearn.tree import export_text\n",
    "from sklearn.linear_model import LinearRegression"
   ]
  },
  {
   "cell_type": "code",
   "execution_count": 273,
   "metadata": {},
   "outputs": [],
   "source": [
    "train_ratio = 0.5\n",
    "val_ratio = 0.25\n",
    "test_ratio = 0.25\n",
    "seed = 42"
   ]
  },
  {
   "cell_type": "code",
   "execution_count": 274,
   "metadata": {},
   "outputs": [],
   "source": [
    "\n",
    "## Create artificial data set with\n",
    "n = 500\n",
    "x1 = np.random.normal(loc = 0,scale=1, size=n)\n",
    "x2 = np.random.normal(loc=0, scale=1, size=n)\n",
    "x3 = np.random.normal(loc=0, scale=1, size=n)\n",
    "x4 = np.random.normal(loc=0, scale=1, size=n)\n",
    "x5 = np.random.normal(loc =0,scale=1, size=n)\n",
    "x6 = np.random.normal(loc=0, scale=1, size=n)\n",
    "x7 = np.random.normal(loc=0, scale=1, size=n)\n",
    "x8 = np.random.normal(loc=0, scale=1, size=n)\n",
    "\n",
    "simulated_data = pd.DataFrame({'x1': x1, 'x2': x2, 'x3': x3, 'x4': x4, \n",
    "                                'x5': x5, 'x6': x6, 'x7': x7, 'x8': x8})\n",
    "\n",
    "x = simulated_data[[f'x{i}' for i in range(1, 9)]]\n",
    "\n",
    "orig_cols = simulated_data.columns\n",
    "\n",
    "# Create an instance of the MinMaxScaler\n",
    "scaler = MinMaxScaler(feature_range=(0, 1))\n",
    "\n",
    "# Assuming you have a feature matrix X\n",
    "# Apply the min-max scaling to the data\n",
    "x = scaler.fit_transform(x)\n",
    "\n",
    "y = 0.2*(x[:, 0] > 0.2)*(x[:, 5] < 0.5) + 0.3*x[:, 3]\n",
    "\n",
    "y_bar = y\n",
    "\n",
    "y = y_bar\n",
    "\n",
    "x = np.array(x)\n",
    "y = np.array(y)\n",
    "\n",
    "\n",
    "x_train, x_test, y_train, y_test = train_test_split(x, y, test_size=1-train_ratio, random_state=seed)\n",
    "x_val, x_test, y_val, y_test = train_test_split(x_test, y_test, \n",
    "                                                test_size=test_ratio/(test_ratio+val_ratio), random_state=seed)"
   ]
  },
  {
   "cell_type": "code",
   "execution_count": 275,
   "metadata": {},
   "outputs": [],
   "source": [
    "x_train = pd.DataFrame(x_train, columns = orig_cols)\n",
    "x_test = pd.DataFrame(x_test, columns = orig_cols)"
   ]
  },
  {
   "cell_type": "code",
   "execution_count": 276,
   "metadata": {},
   "outputs": [
    {
     "data": {
      "text/html": [
       "<style>#sk-container-id-13 {color: black;background-color: white;}#sk-container-id-13 pre{padding: 0;}#sk-container-id-13 div.sk-toggleable {background-color: white;}#sk-container-id-13 label.sk-toggleable__label {cursor: pointer;display: block;width: 100%;margin-bottom: 0;padding: 0.3em;box-sizing: border-box;text-align: center;}#sk-container-id-13 label.sk-toggleable__label-arrow:before {content: \"▸\";float: left;margin-right: 0.25em;color: #696969;}#sk-container-id-13 label.sk-toggleable__label-arrow:hover:before {color: black;}#sk-container-id-13 div.sk-estimator:hover label.sk-toggleable__label-arrow:before {color: black;}#sk-container-id-13 div.sk-toggleable__content {max-height: 0;max-width: 0;overflow: hidden;text-align: left;background-color: #f0f8ff;}#sk-container-id-13 div.sk-toggleable__content pre {margin: 0.2em;color: black;border-radius: 0.25em;background-color: #f0f8ff;}#sk-container-id-13 input.sk-toggleable__control:checked~div.sk-toggleable__content {max-height: 200px;max-width: 100%;overflow: auto;}#sk-container-id-13 input.sk-toggleable__control:checked~label.sk-toggleable__label-arrow:before {content: \"▾\";}#sk-container-id-13 div.sk-estimator input.sk-toggleable__control:checked~label.sk-toggleable__label {background-color: #d4ebff;}#sk-container-id-13 div.sk-label input.sk-toggleable__control:checked~label.sk-toggleable__label {background-color: #d4ebff;}#sk-container-id-13 input.sk-hidden--visually {border: 0;clip: rect(1px 1px 1px 1px);clip: rect(1px, 1px, 1px, 1px);height: 1px;margin: -1px;overflow: hidden;padding: 0;position: absolute;width: 1px;}#sk-container-id-13 div.sk-estimator {font-family: monospace;background-color: #f0f8ff;border: 1px dotted black;border-radius: 0.25em;box-sizing: border-box;margin-bottom: 0.5em;}#sk-container-id-13 div.sk-estimator:hover {background-color: #d4ebff;}#sk-container-id-13 div.sk-parallel-item::after {content: \"\";width: 100%;border-bottom: 1px solid gray;flex-grow: 1;}#sk-container-id-13 div.sk-label:hover label.sk-toggleable__label {background-color: #d4ebff;}#sk-container-id-13 div.sk-serial::before {content: \"\";position: absolute;border-left: 1px solid gray;box-sizing: border-box;top: 0;bottom: 0;left: 50%;z-index: 0;}#sk-container-id-13 div.sk-serial {display: flex;flex-direction: column;align-items: center;background-color: white;padding-right: 0.2em;padding-left: 0.2em;position: relative;}#sk-container-id-13 div.sk-item {position: relative;z-index: 1;}#sk-container-id-13 div.sk-parallel {display: flex;align-items: stretch;justify-content: center;background-color: white;position: relative;}#sk-container-id-13 div.sk-item::before, #sk-container-id-13 div.sk-parallel-item::before {content: \"\";position: absolute;border-left: 1px solid gray;box-sizing: border-box;top: 0;bottom: 0;left: 50%;z-index: -1;}#sk-container-id-13 div.sk-parallel-item {display: flex;flex-direction: column;z-index: 1;position: relative;background-color: white;}#sk-container-id-13 div.sk-parallel-item:first-child::after {align-self: flex-end;width: 50%;}#sk-container-id-13 div.sk-parallel-item:last-child::after {align-self: flex-start;width: 50%;}#sk-container-id-13 div.sk-parallel-item:only-child::after {width: 0;}#sk-container-id-13 div.sk-dashed-wrapped {border: 1px dashed gray;margin: 0 0.4em 0.5em 0.4em;box-sizing: border-box;padding-bottom: 0.4em;background-color: white;}#sk-container-id-13 div.sk-label label {font-family: monospace;font-weight: bold;display: inline-block;line-height: 1.2em;}#sk-container-id-13 div.sk-label-container {text-align: center;}#sk-container-id-13 div.sk-container {/* jupyter's `normalize.less` sets `[hidden] { display: none; }` but bootstrap.min.css set `[hidden] { display: none !important; }` so we also need the `!important` here to be able to override the default hidden behavior on the sphinx rendered scikit-learn.org. See: https://github.com/scikit-learn/scikit-learn/issues/21755 */display: inline-block !important;position: relative;}#sk-container-id-13 div.sk-text-repr-fallback {display: none;}</style><div id=\"sk-container-id-13\" class=\"sk-top-container\"><div class=\"sk-text-repr-fallback\"><pre>DecisionTreeRegressor(max_depth=2)</pre><b>In a Jupyter environment, please rerun this cell to show the HTML representation or trust the notebook. <br />On GitHub, the HTML representation is unable to render, please try loading this page with nbviewer.org.</b></div><div class=\"sk-container\" hidden><div class=\"sk-item\"><div class=\"sk-estimator sk-toggleable\"><input class=\"sk-toggleable__control sk-hidden--visually\" id=\"sk-estimator-id-13\" type=\"checkbox\" checked><label for=\"sk-estimator-id-13\" class=\"sk-toggleable__label sk-toggleable__label-arrow\">DecisionTreeRegressor</label><div class=\"sk-toggleable__content\"><pre>DecisionTreeRegressor(max_depth=2)</pre></div></div></div></div></div>"
      ],
      "text/plain": [
       "DecisionTreeRegressor(max_depth=2)"
      ]
     },
     "execution_count": 276,
     "metadata": {},
     "output_type": "execute_result"
    }
   ],
   "source": [
    "T = DecisionTreeRegressor(max_depth=2)\n",
    "T.fit(x_train, y_train)"
   ]
  },
  {
   "cell_type": "code",
   "execution_count": null,
   "metadata": {},
   "outputs": [],
   "source": []
  },
  {
   "cell_type": "code",
   "execution_count": 277,
   "metadata": {},
   "outputs": [
    {
     "name": "stdout",
     "output_type": "stream",
     "text": [
      "Tree Rules:\n",
      "|--- x6 <= 0.50\n",
      "|   |--- x4 <= 0.59\n",
      "|   |   |--- value: [0.32]\n",
      "|   |--- x4 >  0.59\n",
      "|   |   |--- value: [0.41]\n",
      "|--- x6 >  0.50\n",
      "|   |--- x4 <= 0.52\n",
      "|   |   |--- value: [0.11]\n",
      "|   |--- x4 >  0.52\n",
      "|   |   |--- value: [0.20]\n",
      "\n"
     ]
    }
   ],
   "source": [
    "# Extract the rules from the decision tree\n",
    "tree_rules = export_text(T, feature_names=list(orig_cols))\n",
    "\n",
    "print(\"Tree Rules:\")\n",
    "print(tree_rules)"
   ]
  },
  {
   "cell_type": "code",
   "execution_count": 278,
   "metadata": {},
   "outputs": [],
   "source": [
    "import re\n",
    "\n",
    "def parse_tree_rules(tree_rules_str):\n",
    "    lines = tree_rules_str.split(\"\\n\")\n",
    "    rules = []\n",
    "    conditions = []\n",
    "\n",
    "    for line in lines:\n",
    "        if '---' in line:\n",
    "            # Determine the level of the current condition by counting the leading '|'\n",
    "            level = line.count(\"|\", 0, line.index(\"---\"))\n",
    "            # Extract variable, operator, and value\n",
    "            match = re.search(r\"(x\\d+)\\s*([<>=]+)\\s*([\\d\\.]+)\", line)\n",
    "            if match:\n",
    "                var, op, value = match.groups()\n",
    "\n",
    "                print(var, op, value)\n",
    "\n",
    "                # Adjust the size of conditions list to match the current level\n",
    "                conditions = conditions[:level]\n",
    "                print()\n",
    "                conditions.append(f\"({var} {op} {value})\")\n",
    "\n",
    "        elif 'value:' in line:\n",
    "            # Extract value\n",
    "            value = re.findall(r\"\\[([\\d\\.]+)\\]\", line)[0]\n",
    "            # Combine conditions to a single string and append to rules\n",
    "            rule = \" & \".join(conditions)\n",
    "            rules.append((rule, float(value)))\n",
    "\n",
    "    return conditions"
   ]
  },
  {
   "cell_type": "code",
   "execution_count": 279,
   "metadata": {},
   "outputs": [
    {
     "name": "stdout",
     "output_type": "stream",
     "text": [
      "x6 <= 0.50\n",
      "\n",
      "x4 <= 0.59\n",
      "\n",
      "x4 > 0.59\n",
      "\n",
      "x6 > 0.50\n",
      "\n",
      "x4 <= 0.52\n",
      "\n",
      "x4 > 0.52\n",
      "\n"
     ]
    },
    {
     "data": {
      "text/plain": [
       "['(x6 <= 0.50)', '(x6 > 0.50)', '(x4 > 0.52)']"
      ]
     },
     "execution_count": 279,
     "metadata": {},
     "output_type": "execute_result"
    }
   ],
   "source": [
    "parse_tree_rules(tree_rules)"
   ]
  },
  {
   "cell_type": "code",
   "execution_count": 280,
   "metadata": {},
   "outputs": [],
   "source": [
    "from sklearn.tree import _tree\n",
    "\n",
    "def get_rules(tree, feature_names, class_names):\n",
    "    tree_ = tree.tree_\n",
    "    feature_name = [\n",
    "        feature_names[i] if i != _tree.TREE_UNDEFINED else \"undefined!\"\n",
    "        for i in tree_.feature\n",
    "    ]\n",
    "\n",
    "    paths = []\n",
    "    path = []\n",
    "    \n",
    "    def recurse(node, path, paths):\n",
    "        \n",
    "        if tree_.feature[node] != _tree.TREE_UNDEFINED:\n",
    "            name = feature_name[node]\n",
    "            threshold = tree_.threshold[node]\n",
    "            p1, p2 = list(path), list(path)\n",
    "            p1 += [f\"({name} <= {np.round(threshold, 3)})\"]\n",
    "            recurse(tree_.children_left[node], p1, paths)\n",
    "            p2 += [f\"({name} > {np.round(threshold, 3)})\"]\n",
    "            recurse(tree_.children_right[node], p2, paths)\n",
    "        else:\n",
    "            path += [(tree_.value[node], tree_.n_node_samples[node])]\n",
    "            paths += [path]\n",
    "            \n",
    "    recurse(0, path, paths)\n",
    "\n",
    "    # sort by samples count\n",
    "    samples_count = [p[-1][1] for p in paths]\n",
    "    ii = list(np.argsort(samples_count))\n",
    "    paths = [paths[i] for i in reversed(ii)]\n",
    "    \n",
    "    rules = []\n",
    "    for path in paths:\n",
    "        rule = \"\"\n",
    "        \n",
    "        for p in path[:-1]:\n",
    "            if rule != \"\":\n",
    "                rule += \" & \"\n",
    "            rule += str(p)\n",
    "\n",
    "        rules += [rule]\n",
    "        \n",
    "    return rules\n"
   ]
  },
  {
   "cell_type": "code",
   "execution_count": 281,
   "metadata": {},
   "outputs": [
    {
     "data": {
      "text/plain": [
       "['(x6 > 0.5) & (x4 > 0.481)',\n",
       " '(x6 > 0.5) & (x4 <= 0.481)',\n",
       " '(x6 <= 0.5) & (x4 <= 0.571)',\n",
       " '(x6 <= 0.5) & (x4 > 0.571)']"
      ]
     },
     "execution_count": 281,
     "metadata": {},
     "output_type": "execute_result"
    }
   ],
   "source": [
    "rules"
   ]
  },
  {
   "cell_type": "code",
   "execution_count": 282,
   "metadata": {},
   "outputs": [],
   "source": [
    "for i, rule in enumerate(rules):\n",
    "    x_test[f'rule_{i}'] = x_test.eval(rule).astype(int)"
   ]
  },
  {
   "cell_type": "code",
   "execution_count": 283,
   "metadata": {},
   "outputs": [
    {
     "data": {
      "text/html": [
       "<div>\n",
       "<style scoped>\n",
       "    .dataframe tbody tr th:only-of-type {\n",
       "        vertical-align: middle;\n",
       "    }\n",
       "\n",
       "    .dataframe tbody tr th {\n",
       "        vertical-align: top;\n",
       "    }\n",
       "\n",
       "    .dataframe thead th {\n",
       "        text-align: right;\n",
       "    }\n",
       "</style>\n",
       "<table border=\"1\" class=\"dataframe\">\n",
       "  <thead>\n",
       "    <tr style=\"text-align: right;\">\n",
       "      <th></th>\n",
       "      <th>x1</th>\n",
       "      <th>x2</th>\n",
       "      <th>x3</th>\n",
       "      <th>x4</th>\n",
       "      <th>x5</th>\n",
       "      <th>x6</th>\n",
       "      <th>x7</th>\n",
       "      <th>x8</th>\n",
       "    </tr>\n",
       "  </thead>\n",
       "  <tbody>\n",
       "    <tr>\n",
       "      <th>0</th>\n",
       "      <td>0.380217</td>\n",
       "      <td>0.318813</td>\n",
       "      <td>0.314206</td>\n",
       "      <td>0.490491</td>\n",
       "      <td>0.678176</td>\n",
       "      <td>0.351433</td>\n",
       "      <td>0.605666</td>\n",
       "      <td>0.649317</td>\n",
       "    </tr>\n",
       "    <tr>\n",
       "      <th>1</th>\n",
       "      <td>0.648094</td>\n",
       "      <td>0.377432</td>\n",
       "      <td>0.303682</td>\n",
       "      <td>0.873934</td>\n",
       "      <td>0.593315</td>\n",
       "      <td>0.568287</td>\n",
       "      <td>0.893026</td>\n",
       "      <td>0.714408</td>\n",
       "    </tr>\n",
       "    <tr>\n",
       "      <th>2</th>\n",
       "      <td>0.663560</td>\n",
       "      <td>0.574788</td>\n",
       "      <td>0.230656</td>\n",
       "      <td>0.582927</td>\n",
       "      <td>0.478830</td>\n",
       "      <td>0.196578</td>\n",
       "      <td>0.674897</td>\n",
       "      <td>0.755313</td>\n",
       "    </tr>\n",
       "    <tr>\n",
       "      <th>3</th>\n",
       "      <td>0.721451</td>\n",
       "      <td>0.463873</td>\n",
       "      <td>0.275977</td>\n",
       "      <td>0.457763</td>\n",
       "      <td>0.727842</td>\n",
       "      <td>0.400903</td>\n",
       "      <td>0.773866</td>\n",
       "      <td>0.671936</td>\n",
       "    </tr>\n",
       "    <tr>\n",
       "      <th>4</th>\n",
       "      <td>0.491168</td>\n",
       "      <td>0.336360</td>\n",
       "      <td>0.284268</td>\n",
       "      <td>0.642601</td>\n",
       "      <td>0.510424</td>\n",
       "      <td>0.304149</td>\n",
       "      <td>0.885499</td>\n",
       "      <td>0.517305</td>\n",
       "    </tr>\n",
       "    <tr>\n",
       "      <th>...</th>\n",
       "      <td>...</td>\n",
       "      <td>...</td>\n",
       "      <td>...</td>\n",
       "      <td>...</td>\n",
       "      <td>...</td>\n",
       "      <td>...</td>\n",
       "      <td>...</td>\n",
       "      <td>...</td>\n",
       "    </tr>\n",
       "    <tr>\n",
       "      <th>245</th>\n",
       "      <td>0.472280</td>\n",
       "      <td>0.658372</td>\n",
       "      <td>0.429751</td>\n",
       "      <td>0.372000</td>\n",
       "      <td>0.408421</td>\n",
       "      <td>0.416801</td>\n",
       "      <td>0.672361</td>\n",
       "      <td>0.261801</td>\n",
       "    </tr>\n",
       "    <tr>\n",
       "      <th>246</th>\n",
       "      <td>0.292107</td>\n",
       "      <td>0.313208</td>\n",
       "      <td>0.266700</td>\n",
       "      <td>0.579649</td>\n",
       "      <td>0.520324</td>\n",
       "      <td>0.560504</td>\n",
       "      <td>0.708351</td>\n",
       "      <td>0.472778</td>\n",
       "    </tr>\n",
       "    <tr>\n",
       "      <th>247</th>\n",
       "      <td>0.469423</td>\n",
       "      <td>0.641307</td>\n",
       "      <td>0.302103</td>\n",
       "      <td>0.606805</td>\n",
       "      <td>0.597027</td>\n",
       "      <td>0.650178</td>\n",
       "      <td>0.689605</td>\n",
       "      <td>0.660183</td>\n",
       "    </tr>\n",
       "    <tr>\n",
       "      <th>248</th>\n",
       "      <td>0.566199</td>\n",
       "      <td>0.648834</td>\n",
       "      <td>0.451907</td>\n",
       "      <td>0.432633</td>\n",
       "      <td>0.655285</td>\n",
       "      <td>0.062487</td>\n",
       "      <td>0.902941</td>\n",
       "      <td>0.632012</td>\n",
       "    </tr>\n",
       "    <tr>\n",
       "      <th>249</th>\n",
       "      <td>0.454780</td>\n",
       "      <td>0.494036</td>\n",
       "      <td>0.584224</td>\n",
       "      <td>0.383992</td>\n",
       "      <td>0.353472</td>\n",
       "      <td>0.591395</td>\n",
       "      <td>0.762461</td>\n",
       "      <td>0.439460</td>\n",
       "    </tr>\n",
       "  </tbody>\n",
       "</table>\n",
       "<p>250 rows × 8 columns</p>\n",
       "</div>"
      ],
      "text/plain": [
       "           x1        x2        x3        x4        x5        x6        x7   \n",
       "0    0.380217  0.318813  0.314206  0.490491  0.678176  0.351433  0.605666  \\\n",
       "1    0.648094  0.377432  0.303682  0.873934  0.593315  0.568287  0.893026   \n",
       "2    0.663560  0.574788  0.230656  0.582927  0.478830  0.196578  0.674897   \n",
       "3    0.721451  0.463873  0.275977  0.457763  0.727842  0.400903  0.773866   \n",
       "4    0.491168  0.336360  0.284268  0.642601  0.510424  0.304149  0.885499   \n",
       "..        ...       ...       ...       ...       ...       ...       ...   \n",
       "245  0.472280  0.658372  0.429751  0.372000  0.408421  0.416801  0.672361   \n",
       "246  0.292107  0.313208  0.266700  0.579649  0.520324  0.560504  0.708351   \n",
       "247  0.469423  0.641307  0.302103  0.606805  0.597027  0.650178  0.689605   \n",
       "248  0.566199  0.648834  0.451907  0.432633  0.655285  0.062487  0.902941   \n",
       "249  0.454780  0.494036  0.584224  0.383992  0.353472  0.591395  0.762461   \n",
       "\n",
       "           x8  \n",
       "0    0.649317  \n",
       "1    0.714408  \n",
       "2    0.755313  \n",
       "3    0.671936  \n",
       "4    0.517305  \n",
       "..        ...  \n",
       "245  0.261801  \n",
       "246  0.472778  \n",
       "247  0.660183  \n",
       "248  0.632012  \n",
       "249  0.439460  \n",
       "\n",
       "[250 rows x 8 columns]"
      ]
     },
     "execution_count": 283,
     "metadata": {},
     "output_type": "execute_result"
    }
   ],
   "source": [
    "x_train"
   ]
  },
  {
   "cell_type": "code",
   "execution_count": 284,
   "metadata": {},
   "outputs": [],
   "source": [
    "# def linear_regression_pipeline(X_train, X_test, y_train, y_test):\n",
    "\n",
    "#     model = LinearRegression()\n",
    "#     model.fit(X_train, y_train)\n",
    "\n",
    "#     return round(model.score(X_train, y_train), 3), round(model.score(X_test, y_test), 3), model.coef_"
   ]
  },
  {
   "cell_type": "code",
   "execution_count": 285,
   "metadata": {},
   "outputs": [],
   "source": [
    "# train_R2, test_R2 = linear_regression_pipeline(x_train, x_test, y_train, y_test)"
   ]
  },
  {
   "cell_type": "code",
   "execution_count": 290,
   "metadata": {},
   "outputs": [],
   "source": [
    "# train_R2, test_R2"
   ]
  },
  {
   "attachments": {},
   "cell_type": "markdown",
   "metadata": {},
   "source": [
    "Objective function"
   ]
  },
  {
   "cell_type": "code",
   "execution_count": 294,
   "metadata": {},
   "outputs": [],
   "source": [
    "from sklearn.metrics import mean_squared_error\n",
    "# Algo 8.1 LocalSearch\n",
    "\n",
    "def InitialSteps(X, y, max_depth, alpha):\n",
    "\n",
    "    X = X.copy()\n",
    "\n",
    "    T = DecisionTreeRegressor(max_depth=max_depth)\n",
    "    T.fit(x_train, y_train)\n",
    "\n",
    "    rules = get_rules(T, list(orig_cols), None)\n",
    "    for i, rule in enumerate(rules):\n",
    "        X[f'rule_{i}'] = X.eval(rule).astype(int)\n",
    "    \n",
    "    rulefit = LinearRegression()\n",
    "    rulefit.fit(X, y) # rulefit is LinReg because we added rules already :D\n",
    "    SSE = mean_squared_error(rulefit.predict(X), y)\n",
    "\n",
    "    ####### Needed to define Loss(T, X, y) ######\n",
    "    is_leaf = np.logical_and(T.tree_.children_left == -1, T.tree_.children_right == -1)\n",
    "    d = np.count_nonzero(~is_leaf) # recall complexity d is |T| = number of branching nodes (not 2^max_depth)\n",
    "    ######\n",
    "\n",
    "    n = y.shape[0]\n",
    "    L_init = SSE*n + alpha*d\n",
    "\n",
    "    print(f\"SSE contributes {SSE*n*100/L_init}% to the initial loss\")\n",
    "    print(f\"Complexity contributes {alpha*d*100/L_init}%\")\n",
    "\n",
    "    return L_init"
   ]
  },
  {
   "cell_type": "code",
   "execution_count": 299,
   "metadata": {},
   "outputs": [
    {
     "name": "stdout",
     "output_type": "stream",
     "text": [
      "SSE contributes 1.2360291662818856e-23% to the initial loss\n",
      "Complexity contributes 100.0%\n"
     ]
    },
    {
     "data": {
      "text/plain": [
       "7.000000000000001e-05"
      ]
     },
     "execution_count": 299,
     "metadata": {},
     "output_type": "execute_result"
    }
   ],
   "source": [
    "InitialSteps(x_train, y_train, 3, alpha = 0.00001)"
   ]
  },
  {
   "cell_type": "code",
   "execution_count": 319,
   "metadata": {},
   "outputs": [],
   "source": [
    "def nodes(T):\n",
    "\n",
    "    lc = list(T.tree_.children_left)\n",
    "    rc = list(T.tree_.children_right)\n",
    "\n",
    "    nodes = [0] + lc + rc # nodes are root + left children + right_children\n",
    "    nodes = list(set(nodes)) # but some children can be duplicates\n",
    "    nodes = np.setdiff1d(nodes, np.array(-1)) # also -1 is not a node but indicates a node doesn't exist\n",
    "\n",
    "    return nodes"
   ]
  },
  {
   "cell_type": "code",
   "execution_count": 324,
   "metadata": {},
   "outputs": [],
   "source": [
    "def shuffle(arr):\n",
    "    # need a fn for this because np.random.shuffle is not inplace\n",
    "    arr_copy = arr.copy()\n",
    "    np.random.shuffle(arr_copy)\n",
    "    return arr_copy "
   ]
  },
  {
   "cell_type": "code",
   "execution_count": 328,
   "metadata": {},
   "outputs": [],
   "source": [
    "def find_leaf_nodes(T, t):\n",
    "    # List to store the leaf nodes\n",
    "    leaf_nodes = []\n",
    "\n",
    "    # Recursive helper function\n",
    "    def explore(node):\n",
    "        # If this is a leaf node, add it to the list\n",
    "        if T.tree_.children_left[node] == T.tree_.children_right[node] == -1:\n",
    "            leaf_nodes.append(node)\n",
    "        else:\n",
    "            # If this is a branch node, explore its children\n",
    "            if T.tree_.children_left[node] != -1:\n",
    "                explore(T.tree_.children_left[node])\n",
    "            if T.tree_.children_right[node] != -1:\n",
    "                explore(T.tree_.children_right[node])\n",
    "\n",
    "    # Start exploring from node t\n",
    "    explore(t)\n",
    "\n",
    "    return leaf_nodes"
   ]
  },
  {
   "cell_type": "code",
   "execution_count": 346,
   "metadata": {},
   "outputs": [],
   "source": [
    "def construct_I(T, X, nodes_in_T_t):\n",
    "\n",
    "    \n",
    "    belongs_to = T.apply(X) # leaf node obs belong to\n",
    "\n",
    "    I = []\n",
    "\n",
    "    for i in range(X.shape[0]):\n",
    "\n",
    "        if belongs_to[i] in nodes_in_T_t:\n",
    "\n",
    "            I.append(i) \n",
    "    \n",
    "    return I"
   ]
  },
  {
   "cell_type": "code",
   "execution_count": null,
   "metadata": {},
   "outputs": [],
   "source": [
    "def OptimizeNodeParallel(T, X, y):\n",
    "\n",
    "    # ... to finish"
   ]
  },
  {
   "cell_type": "code",
   "execution_count": 349,
   "metadata": {},
   "outputs": [],
   "source": [
    "def LocalSearch(T, X, y, max_depth):\n",
    "    \n",
    "    # Extracting initial loss\n",
    "    error_prev = InitialSteps(X, y, max_depth, alpha = 0.00001)\n",
    "    \n",
    "    X = np.array(X)\n",
    "    y = np.array(y)\n",
    "    \n",
    "    for t in shuffle(nodes(T)):\n",
    "\n",
    "        nodes_in_T_t = find_leaf_nodes(T, t)\n",
    "\n",
    "        I = construct_I(T, X, nodes_in_T_t)\n",
    "\n",
    "        T_t = OptimizeNodeParallel(T_t, X[I], y[I])\n",
    "\n",
    "        # Replace tth node in T with T_t\n",
    "\n",
    "\n"
   ]
  }
 ],
 "metadata": {
  "kernelspec": {
   "display_name": "Python 3",
   "language": "python",
   "name": "python3"
  },
  "language_info": {
   "codemirror_mode": {
    "name": "ipython",
    "version": 3
   },
   "file_extension": ".py",
   "mimetype": "text/x-python",
   "name": "python",
   "nbconvert_exporter": "python",
   "pygments_lexer": "ipython3",
   "version": "3.11.3"
  },
  "orig_nbformat": 4
 },
 "nbformat": 4,
 "nbformat_minor": 2
}
