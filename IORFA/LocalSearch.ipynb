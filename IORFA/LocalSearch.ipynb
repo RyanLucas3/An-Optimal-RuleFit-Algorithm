{
 "cells": [
  {
   "cell_type": "code",
   "execution_count": 271,
   "metadata": {},
   "outputs": [],
   "source": [
    "# import sys\n",
    "# sys.path.append(\"..\")"
   ]
  },
  {
   "cell_type": "code",
   "execution_count": 1,
   "metadata": {},
   "outputs": [],
   "source": [
    "import gurobipy\n",
    "import pandas as pd\n",
    "from IORFA import *\n",
    "import numpy as np\n",
    "import time\n",
    "from sklearn.metrics import r2_score\n",
    "import matplotlib.pyplot as plt\n",
    "from sklearn.model_selection import train_test_split\n",
    "from sklearn.datasets import make_regression\n",
    "from sklearn.preprocessing import MinMaxScaler\n",
    "from sklearn.tree import DecisionTreeRegressor\n",
    "from sklearn.tree import export_text\n",
    "from sklearn.linear_model import LinearRegression"
   ]
  },
  {
   "cell_type": "code",
   "execution_count": 2,
   "metadata": {},
   "outputs": [],
   "source": [
    "train_ratio = 0.5\n",
    "val_ratio = 0.25\n",
    "test_ratio = 0.25\n",
    "seed = 42"
   ]
  },
  {
   "cell_type": "code",
   "execution_count": 3,
   "metadata": {},
   "outputs": [],
   "source": [
    "\n",
    "## Create artificial data set with\n",
    "n = 500\n",
    "x1 = np.random.normal(loc = 0,scale=1, size=n)\n",
    "x2 = np.random.normal(loc=0, scale=1, size=n)\n",
    "x3 = np.random.normal(loc=0, scale=1, size=n)\n",
    "x4 = np.random.normal(loc=0, scale=1, size=n)\n",
    "x5 = np.random.normal(loc =0,scale=1, size=n)\n",
    "x6 = np.random.normal(loc=0, scale=1, size=n)\n",
    "x7 = np.random.normal(loc=0, scale=1, size=n)\n",
    "x8 = np.random.normal(loc=0, scale=1, size=n)\n",
    "\n",
    "simulated_data = pd.DataFrame({'x1': x1, 'x2': x2, 'x3': x3, 'x4': x4, \n",
    "                                'x5': x5, 'x6': x6, 'x7': x7, 'x8': x8})\n",
    "\n",
    "x = simulated_data[[f'x{i}' for i in range(1, 9)]]\n",
    "\n",
    "orig_cols = simulated_data.columns\n",
    "\n",
    "# Create an instance of the MinMaxScaler\n",
    "scaler = MinMaxScaler(feature_range=(0, 1))\n",
    "\n",
    "# Assuming you have a feature matrix X\n",
    "# Apply the min-max scaling to the data\n",
    "x = scaler.fit_transform(x)\n",
    "\n",
    "y = 0.2*(x[:, 0] > 0.2)*(x[:, 5] < 0.5) + 0.3*x[:, 3]\n",
    "\n",
    "y_bar = y\n",
    "\n",
    "y = y_bar\n",
    "\n",
    "x = np.array(x)\n",
    "y = np.array(y)\n",
    "\n",
    "\n",
    "x_train, x_test, y_train, y_test = train_test_split(x, y, test_size=1-train_ratio, random_state=seed)\n",
    "x_val, x_test, y_val, y_test = train_test_split(x_test, y_test, \n",
    "                                                test_size=test_ratio/(test_ratio+val_ratio), random_state=seed)"
   ]
  },
  {
   "cell_type": "code",
   "execution_count": 4,
   "metadata": {},
   "outputs": [],
   "source": [
    "x_train = pd.DataFrame(x_train, columns = orig_cols)\n",
    "x_test = pd.DataFrame(x_test, columns = orig_cols)"
   ]
  },
  {
   "cell_type": "code",
   "execution_count": 5,
   "metadata": {},
   "outputs": [
    {
     "data": {
      "text/plain": "DecisionTreeRegressor(max_depth=2)",
      "text/html": "<style>#sk-container-id-1 {color: black;background-color: white;}#sk-container-id-1 pre{padding: 0;}#sk-container-id-1 div.sk-toggleable {background-color: white;}#sk-container-id-1 label.sk-toggleable__label {cursor: pointer;display: block;width: 100%;margin-bottom: 0;padding: 0.3em;box-sizing: border-box;text-align: center;}#sk-container-id-1 label.sk-toggleable__label-arrow:before {content: \"▸\";float: left;margin-right: 0.25em;color: #696969;}#sk-container-id-1 label.sk-toggleable__label-arrow:hover:before {color: black;}#sk-container-id-1 div.sk-estimator:hover label.sk-toggleable__label-arrow:before {color: black;}#sk-container-id-1 div.sk-toggleable__content {max-height: 0;max-width: 0;overflow: hidden;text-align: left;background-color: #f0f8ff;}#sk-container-id-1 div.sk-toggleable__content pre {margin: 0.2em;color: black;border-radius: 0.25em;background-color: #f0f8ff;}#sk-container-id-1 input.sk-toggleable__control:checked~div.sk-toggleable__content {max-height: 200px;max-width: 100%;overflow: auto;}#sk-container-id-1 input.sk-toggleable__control:checked~label.sk-toggleable__label-arrow:before {content: \"▾\";}#sk-container-id-1 div.sk-estimator input.sk-toggleable__control:checked~label.sk-toggleable__label {background-color: #d4ebff;}#sk-container-id-1 div.sk-label input.sk-toggleable__control:checked~label.sk-toggleable__label {background-color: #d4ebff;}#sk-container-id-1 input.sk-hidden--visually {border: 0;clip: rect(1px 1px 1px 1px);clip: rect(1px, 1px, 1px, 1px);height: 1px;margin: -1px;overflow: hidden;padding: 0;position: absolute;width: 1px;}#sk-container-id-1 div.sk-estimator {font-family: monospace;background-color: #f0f8ff;border: 1px dotted black;border-radius: 0.25em;box-sizing: border-box;margin-bottom: 0.5em;}#sk-container-id-1 div.sk-estimator:hover {background-color: #d4ebff;}#sk-container-id-1 div.sk-parallel-item::after {content: \"\";width: 100%;border-bottom: 1px solid gray;flex-grow: 1;}#sk-container-id-1 div.sk-label:hover label.sk-toggleable__label {background-color: #d4ebff;}#sk-container-id-1 div.sk-serial::before {content: \"\";position: absolute;border-left: 1px solid gray;box-sizing: border-box;top: 0;bottom: 0;left: 50%;z-index: 0;}#sk-container-id-1 div.sk-serial {display: flex;flex-direction: column;align-items: center;background-color: white;padding-right: 0.2em;padding-left: 0.2em;position: relative;}#sk-container-id-1 div.sk-item {position: relative;z-index: 1;}#sk-container-id-1 div.sk-parallel {display: flex;align-items: stretch;justify-content: center;background-color: white;position: relative;}#sk-container-id-1 div.sk-item::before, #sk-container-id-1 div.sk-parallel-item::before {content: \"\";position: absolute;border-left: 1px solid gray;box-sizing: border-box;top: 0;bottom: 0;left: 50%;z-index: -1;}#sk-container-id-1 div.sk-parallel-item {display: flex;flex-direction: column;z-index: 1;position: relative;background-color: white;}#sk-container-id-1 div.sk-parallel-item:first-child::after {align-self: flex-end;width: 50%;}#sk-container-id-1 div.sk-parallel-item:last-child::after {align-self: flex-start;width: 50%;}#sk-container-id-1 div.sk-parallel-item:only-child::after {width: 0;}#sk-container-id-1 div.sk-dashed-wrapped {border: 1px dashed gray;margin: 0 0.4em 0.5em 0.4em;box-sizing: border-box;padding-bottom: 0.4em;background-color: white;}#sk-container-id-1 div.sk-label label {font-family: monospace;font-weight: bold;display: inline-block;line-height: 1.2em;}#sk-container-id-1 div.sk-label-container {text-align: center;}#sk-container-id-1 div.sk-container {/* jupyter's `normalize.less` sets `[hidden] { display: none; }` but bootstrap.min.css set `[hidden] { display: none !important; }` so we also need the `!important` here to be able to override the default hidden behavior on the sphinx rendered scikit-learn.org. See: https://github.com/scikit-learn/scikit-learn/issues/21755 */display: inline-block !important;position: relative;}#sk-container-id-1 div.sk-text-repr-fallback {display: none;}</style><div id=\"sk-container-id-1\" class=\"sk-top-container\"><div class=\"sk-text-repr-fallback\"><pre>DecisionTreeRegressor(max_depth=2)</pre><b>In a Jupyter environment, please rerun this cell to show the HTML representation or trust the notebook. <br />On GitHub, the HTML representation is unable to render, please try loading this page with nbviewer.org.</b></div><div class=\"sk-container\" hidden><div class=\"sk-item\"><div class=\"sk-estimator sk-toggleable\"><input class=\"sk-toggleable__control sk-hidden--visually\" id=\"sk-estimator-id-1\" type=\"checkbox\" checked><label for=\"sk-estimator-id-1\" class=\"sk-toggleable__label sk-toggleable__label-arrow\">DecisionTreeRegressor</label><div class=\"sk-toggleable__content\"><pre>DecisionTreeRegressor(max_depth=2)</pre></div></div></div></div></div>"
     },
     "execution_count": 5,
     "metadata": {},
     "output_type": "execute_result"
    }
   ],
   "source": [
    "T = DecisionTreeRegressor(max_depth=2)\n",
    "T.fit(x_train, y_train)"
   ]
  },
  {
   "cell_type": "code",
   "execution_count": 6,
   "metadata": {},
   "outputs": [
    {
     "name": "stdout",
     "output_type": "stream",
     "text": [
      "Tree Rules:\n",
      "|--- x6 <= 0.50\n",
      "|   |--- x4 <= 0.51\n",
      "|   |   |--- value: [0.31]\n",
      "|   |--- x4 >  0.51\n",
      "|   |   |--- value: [0.39]\n",
      "|--- x6 >  0.50\n",
      "|   |--- x4 <= 0.56\n",
      "|   |   |--- value: [0.12]\n",
      "|   |--- x4 >  0.56\n",
      "|   |   |--- value: [0.21]\n",
      "\n"
     ]
    }
   ],
   "source": [
    "# Extract the rules from the decision tree\n",
    "tree_rules = export_text(T, feature_names=list(orig_cols))\n",
    "\n",
    "print(\"Tree Rules:\")\n",
    "print(tree_rules)"
   ]
  },
  {
   "cell_type": "code",
   "execution_count": 7,
   "metadata": {},
   "outputs": [],
   "source": [
    "import re\n",
    "\n",
    "def parse_tree_rules(tree_rules_str):\n",
    "    lines = tree_rules_str.split(\"\\n\")\n",
    "    rules = []\n",
    "    conditions = []\n",
    "\n",
    "    for line in lines:\n",
    "        if '---' in line:\n",
    "            # Determine the level of the current condition by counting the leading '|'\n",
    "            level = line.count(\"|\", 0, line.index(\"---\"))\n",
    "            # Extract variable, operator, and value\n",
    "            match = re.search(r\"(x\\d+)\\s*([<>=]+)\\s*([\\d\\.]+)\", line)\n",
    "            if match:\n",
    "                var, op, value = match.groups()\n",
    "\n",
    "                print(var, op, value)\n",
    "\n",
    "                # Adjust the size of conditions list to match the current level\n",
    "                conditions = conditions[:level]\n",
    "                print()\n",
    "                conditions.append(f\"({var} {op} {value})\")\n",
    "\n",
    "        elif 'value:' in line:\n",
    "            # Extract value\n",
    "            value = re.findall(r\"\\[([\\d\\.]+)\\]\", line)[0]\n",
    "            # Combine conditions to a single string and append to rules\n",
    "            rule = \" & \".join(conditions)\n",
    "            rules.append((rule, float(value)))\n",
    "\n",
    "    return conditions"
   ]
  },
  {
   "cell_type": "code",
   "execution_count": 8,
   "metadata": {},
   "outputs": [
    {
     "name": "stdout",
     "output_type": "stream",
     "text": [
      "x6 <= 0.50\n",
      "\n",
      "x4 <= 0.51\n",
      "\n",
      "x4 > 0.51\n",
      "\n",
      "x6 > 0.50\n",
      "\n",
      "x4 <= 0.56\n",
      "\n",
      "x4 > 0.56\n",
      "\n"
     ]
    },
    {
     "data": {
      "text/plain": "['(x6 <= 0.50)', '(x6 > 0.50)', '(x4 > 0.56)']"
     },
     "execution_count": 8,
     "metadata": {},
     "output_type": "execute_result"
    }
   ],
   "source": [
    "parse_tree_rules(tree_rules)"
   ]
  },
  {
   "cell_type": "code",
   "execution_count": 29,
   "metadata": {},
   "outputs": [],
   "source": [
    "from sklearn.tree import _tree\n",
    "\n",
    "def get_rules(tree, feature_names, class_names):\n",
    "    tree_ = tree.tree_\n",
    "    feature_name = [\n",
    "        feature_names[i] if i != _tree.TREE_UNDEFINED else \"undefined!\"\n",
    "        for i in tree_.feature\n",
    "    ]\n",
    "\n",
    "    paths = []\n",
    "    path = []\n",
    "    \n",
    "    def recurse(node, path, paths):\n",
    "        \n",
    "        if tree_.feature[node] != _tree.TREE_UNDEFINED:\n",
    "            name = feature_name[node]\n",
    "            threshold = tree_.threshold[node]\n",
    "            p1, p2 = list(path), list(path)\n",
    "            p1 += [f\"({name} <= {np.round(threshold, 3)})\"]\n",
    "            recurse(tree_.children_left[node], p1, paths)\n",
    "            p2 += [f\"({name} > {np.round(threshold, 3)})\"]\n",
    "            recurse(tree_.children_right[node], p2, paths)\n",
    "        else:\n",
    "            path += [(tree_.value[node], tree_.n_node_samples[node])]\n",
    "            paths += [path]\n",
    "            \n",
    "    recurse(0, path, paths)\n",
    "\n",
    "    # sort by samples count\n",
    "    samples_count = [p[-1][1] for p in paths]\n",
    "    ii = list(np.argsort(samples_count))\n",
    "    print(samples_count)\n",
    "    paths = [paths[i] for i in reversed(ii)]\n",
    "    \n",
    "    rules = []\n",
    "    for path in paths:\n",
    "        rule = \"\"\n",
    "        \n",
    "        for p in path[:-1]:\n",
    "            if rule != \"\":\n",
    "                rule += \" & \"\n",
    "            rule += str(p)\n",
    "\n",
    "        rules += [rule]\n",
    "        \n",
    "    return rules\n"
   ]
  },
  {
   "cell_type": "code",
   "execution_count": 41,
   "metadata": {},
   "outputs": [],
   "source": [
    "X = x_train.copy()\n",
    "\n",
    "T = DecisionTreeRegressor(max_depth=3)\n",
    "T.fit(x_train, y_train)\n",
    "tree = T\n",
    "rules,paths ,nodes_thresholds= get_rules(tree, list(orig_cols), None)"
   ]
  },
  {
   "cell_type": "code",
   "execution_count": 48,
   "outputs": [
    {
     "data": {
      "text/plain": "3"
     },
     "execution_count": 48,
     "metadata": {},
     "output_type": "execute_result"
    }
   ],
   "source": [
    "tree.tree_.feature[1]"
   ],
   "metadata": {
    "collapsed": false
   }
  },
  {
   "cell_type": "code",
   "execution_count": 35,
   "outputs": [
    {
     "data": {
      "text/plain": "['(x6 <= 0.5) & (x4 > 0.513) & (x4 <= 0.795)',\n '(x6 > 0.5) & (x4 <= 0.561) & (x4 > 0.35)',\n '(x6 <= 0.5) & (x4 <= 0.513) & (x4 > 0.344)',\n '(x6 > 0.5) & (x4 > 0.561) & (x4 <= 0.711)',\n '(x6 > 0.5) & (x4 > 0.561) & (x4 > 0.711)',\n '(x6 <= 0.5) & (x4 <= 0.513) & (x4 <= 0.344)',\n '(x6 > 0.5) & (x4 <= 0.561) & (x4 <= 0.35)',\n '(x6 <= 0.5) & (x4 > 0.513) & (x4 > 0.795)']"
     },
     "execution_count": 35,
     "metadata": {},
     "output_type": "execute_result"
    }
   ],
   "source": [
    "rules"
   ],
   "metadata": {
    "collapsed": false
   }
  },
  {
   "cell_type": "code",
   "execution_count": 34,
   "outputs": [
    {
     "data": {
      "text/plain": "{0: 0.49958091974258423,\n 1: 0.5131429731845856,\n 2: 0.34435226023197174,\n 5: 0.7948507368564606,\n 8: 0.5608195662498474,\n 9: 0.3499424010515213,\n 12: 0.7114875018596649}"
     },
     "execution_count": 34,
     "metadata": {},
     "output_type": "execute_result"
    }
   ],
   "source": [
    "nodes_thresholds= {0: 0.49958091974258423,\n",
    " 1: 0.5131429731845856,\n",
    " 2: 0.34435226023197174,\n",
    " 5: 0.7948507368564606,\n",
    " 8: 0.5608195662498474,\n",
    " 9: 0.3499424010515213,\n",
    " 12: 0.7114875018596649}"
   ],
   "metadata": {
    "collapsed": false
   }
  },
  {
   "cell_type": "code",
   "execution_count": 36,
   "outputs": [],
   "source": [
    "def get_rules_from_dict(nodes_thresholds, feature_names):\n",
    "    rules = {}\n",
    "    for node, threshold in nodes_thresholds.items():\n",
    "        if node != _tree.TREE_UNDEFINED:\n",
    "            feature_name = feature_names[node]\n",
    "            rule = f\"{feature_name} <= {threshold}\"  # create a rule\n",
    "            rules[node] = rule\n",
    "    return rules\n"
   ],
   "metadata": {
    "collapsed": false
   }
  },
  {
   "cell_type": "code",
   "execution_count": 15,
   "metadata": {},
   "outputs": [
    {
     "ename": "NameError",
     "evalue": "name 'rules' is not defined",
     "output_type": "error",
     "traceback": [
      "\u001B[0;31m---------------------------------------------------------------------------\u001B[0m",
      "\u001B[0;31mNameError\u001B[0m                                 Traceback (most recent call last)",
      "Cell \u001B[0;32mIn[15], line 1\u001B[0m\n\u001B[0;32m----> 1\u001B[0m \u001B[38;5;28;01mfor\u001B[39;00m i, rule \u001B[38;5;129;01min\u001B[39;00m \u001B[38;5;28menumerate\u001B[39m(\u001B[43mrules\u001B[49m):\n\u001B[1;32m      2\u001B[0m     x_test[\u001B[38;5;124mf\u001B[39m\u001B[38;5;124m'\u001B[39m\u001B[38;5;124mrule_\u001B[39m\u001B[38;5;132;01m{\u001B[39;00mi\u001B[38;5;132;01m}\u001B[39;00m\u001B[38;5;124m'\u001B[39m] \u001B[38;5;241m=\u001B[39m x_test\u001B[38;5;241m.\u001B[39meval(rule)\u001B[38;5;241m.\u001B[39mastype(\u001B[38;5;28mint\u001B[39m)\n",
      "\u001B[0;31mNameError\u001B[0m: name 'rules' is not defined"
     ]
    }
   ],
   "source": [
    "for i, rule in enumerate(rules):\n",
    "    x_test[f'rule_{i}'] = x_test.eval(rule).astype(int)"
   ]
  },
  {
   "cell_type": "code",
   "execution_count": 22,
   "metadata": {},
   "outputs": [
    {
     "data": {
      "text/plain": "           x1        x2        x3        x4        x5        x6        x7   \n0    0.565995  0.150262  0.914487  0.621817  0.236517  0.275295  0.176273  \\\n1    0.533263  0.760463  0.510611  0.565015  0.513558  0.916188  0.516458   \n2    0.611347  0.609587  0.281186  0.567339  0.490805  0.625635  0.499041   \n3    0.697311  0.506747  0.489502  0.501055  0.690571  0.673597  0.476525   \n4    0.770253  0.509938  0.331303  0.604782  0.451043  0.301199  0.651899   \n..        ...       ...       ...       ...       ...       ...       ...   \n245  0.571175  0.793486  0.572033  0.167986  0.594599  0.464439  0.479892   \n246  0.419999  0.523910  0.525964  0.486322  0.620032  0.712436  0.336747   \n247  0.628963  0.192685  0.674890  0.129966  0.440042  0.554789  0.118806   \n248  0.660782  0.739503  0.430310  0.424036  0.505794  0.000000  0.105403   \n249  0.608112  0.765364  0.722971  0.308449  0.448001  0.475266  0.445217   \n\n           x8  \n0    0.693809  \n1    0.707496  \n2    0.449888  \n3    0.486249  \n4    0.609349  \n..        ...  \n245  0.864835  \n246  0.613825  \n247  0.117355  \n248  0.580457  \n249  0.502125  \n\n[250 rows x 8 columns]",
      "text/html": "<div>\n<style scoped>\n    .dataframe tbody tr th:only-of-type {\n        vertical-align: middle;\n    }\n\n    .dataframe tbody tr th {\n        vertical-align: top;\n    }\n\n    .dataframe thead th {\n        text-align: right;\n    }\n</style>\n<table border=\"1\" class=\"dataframe\">\n  <thead>\n    <tr style=\"text-align: right;\">\n      <th></th>\n      <th>x1</th>\n      <th>x2</th>\n      <th>x3</th>\n      <th>x4</th>\n      <th>x5</th>\n      <th>x6</th>\n      <th>x7</th>\n      <th>x8</th>\n    </tr>\n  </thead>\n  <tbody>\n    <tr>\n      <th>0</th>\n      <td>0.565995</td>\n      <td>0.150262</td>\n      <td>0.914487</td>\n      <td>0.621817</td>\n      <td>0.236517</td>\n      <td>0.275295</td>\n      <td>0.176273</td>\n      <td>0.693809</td>\n    </tr>\n    <tr>\n      <th>1</th>\n      <td>0.533263</td>\n      <td>0.760463</td>\n      <td>0.510611</td>\n      <td>0.565015</td>\n      <td>0.513558</td>\n      <td>0.916188</td>\n      <td>0.516458</td>\n      <td>0.707496</td>\n    </tr>\n    <tr>\n      <th>2</th>\n      <td>0.611347</td>\n      <td>0.609587</td>\n      <td>0.281186</td>\n      <td>0.567339</td>\n      <td>0.490805</td>\n      <td>0.625635</td>\n      <td>0.499041</td>\n      <td>0.449888</td>\n    </tr>\n    <tr>\n      <th>3</th>\n      <td>0.697311</td>\n      <td>0.506747</td>\n      <td>0.489502</td>\n      <td>0.501055</td>\n      <td>0.690571</td>\n      <td>0.673597</td>\n      <td>0.476525</td>\n      <td>0.486249</td>\n    </tr>\n    <tr>\n      <th>4</th>\n      <td>0.770253</td>\n      <td>0.509938</td>\n      <td>0.331303</td>\n      <td>0.604782</td>\n      <td>0.451043</td>\n      <td>0.301199</td>\n      <td>0.651899</td>\n      <td>0.609349</td>\n    </tr>\n    <tr>\n      <th>...</th>\n      <td>...</td>\n      <td>...</td>\n      <td>...</td>\n      <td>...</td>\n      <td>...</td>\n      <td>...</td>\n      <td>...</td>\n      <td>...</td>\n    </tr>\n    <tr>\n      <th>245</th>\n      <td>0.571175</td>\n      <td>0.793486</td>\n      <td>0.572033</td>\n      <td>0.167986</td>\n      <td>0.594599</td>\n      <td>0.464439</td>\n      <td>0.479892</td>\n      <td>0.864835</td>\n    </tr>\n    <tr>\n      <th>246</th>\n      <td>0.419999</td>\n      <td>0.523910</td>\n      <td>0.525964</td>\n      <td>0.486322</td>\n      <td>0.620032</td>\n      <td>0.712436</td>\n      <td>0.336747</td>\n      <td>0.613825</td>\n    </tr>\n    <tr>\n      <th>247</th>\n      <td>0.628963</td>\n      <td>0.192685</td>\n      <td>0.674890</td>\n      <td>0.129966</td>\n      <td>0.440042</td>\n      <td>0.554789</td>\n      <td>0.118806</td>\n      <td>0.117355</td>\n    </tr>\n    <tr>\n      <th>248</th>\n      <td>0.660782</td>\n      <td>0.739503</td>\n      <td>0.430310</td>\n      <td>0.424036</td>\n      <td>0.505794</td>\n      <td>0.000000</td>\n      <td>0.105403</td>\n      <td>0.580457</td>\n    </tr>\n    <tr>\n      <th>249</th>\n      <td>0.608112</td>\n      <td>0.765364</td>\n      <td>0.722971</td>\n      <td>0.308449</td>\n      <td>0.448001</td>\n      <td>0.475266</td>\n      <td>0.445217</td>\n      <td>0.502125</td>\n    </tr>\n  </tbody>\n</table>\n<p>250 rows × 8 columns</p>\n</div>"
     },
     "execution_count": 22,
     "metadata": {},
     "output_type": "execute_result"
    }
   ],
   "source": [
    "x_train"
   ]
  },
  {
   "cell_type": "code",
   "execution_count": 17,
   "metadata": {},
   "outputs": [],
   "source": [
    "# def linear_regression_pipeline(X_train, X_test, y_train, y_test):\n",
    "\n",
    "#     model = LinearRegression()\n",
    "#     model.fit(X_train, y_train)\n",
    "\n",
    "#     return round(model.score(X_train, y_train), 3), round(model.score(X_test, y_test), 3), model.coef_"
   ]
  },
  {
   "cell_type": "code",
   "execution_count": 18,
   "metadata": {},
   "outputs": [],
   "source": [
    "# train_R2, test_R2 = linear_regression_pipeline(x_train, x_test, y_train, y_test)"
   ]
  },
  {
   "cell_type": "code",
   "execution_count": 290,
   "metadata": {},
   "outputs": [],
   "source": [
    "# train_R2, test_R2"
   ]
  },
  {
   "attachments": {},
   "cell_type": "markdown",
   "metadata": {},
   "source": [
    "Objective function"
   ]
  },
  {
   "cell_type": "code",
   "execution_count": 294,
   "metadata": {},
   "outputs": [],
   "source": [
    "from sklearn.metrics import mean_squared_error\n",
    "# Algo 8.1 LocalSearch\n",
    "\n",
    "def InitialSteps(X, y, max_depth, alpha):\n",
    "\n",
    "    X = X.copy()\n",
    "\n",
    "    T = DecisionTreeRegressor(max_depth=max_depth)\n",
    "    T.fit(x_train, y_train)\n",
    "\n",
    "    rules = get_rules(T, list(orig_cols), None)\n",
    "    for i, rule in enumerate(rules):\n",
    "        X[f'rule_{i}'] = X.eval(rule).astype(int)\n",
    "    \n",
    "    rulefit = LinearRegression()\n",
    "    rulefit.fit(X, y) # rulefit is LinReg because we added rules already :D\n",
    "    SSE = mean_squared_error(rulefit.predict(X), y)\n",
    "\n",
    "    ####### Needed to define Loss(T, X, y) ######\n",
    "    is_leaf = np.logical_and(T.tree_.children_left == -1, T.tree_.children_right == -1)\n",
    "    d = np.count_nonzero(~is_leaf) # recall complexity d is |T| = number of branching nodes (not 2^max_depth)\n",
    "    ######\n",
    "\n",
    "    n = y.shape[0]\n",
    "    L_init = SSE*n + alpha*d\n",
    "\n",
    "    print(f\"SSE contributes {SSE*n*100/L_init}% to the initial loss\")\n",
    "    print(f\"Complexity contributes {alpha*d*100/L_init}%\")\n",
    "\n",
    "    return L_init"
   ]
  },
  {
   "cell_type": "code",
   "execution_count": 299,
   "metadata": {},
   "outputs": [
    {
     "name": "stdout",
     "output_type": "stream",
     "text": [
      "SSE contributes 1.2360291662818856e-23% to the initial loss\n",
      "Complexity contributes 100.0%\n"
     ]
    },
    {
     "data": {
      "text/plain": [
       "7.000000000000001e-05"
      ]
     },
     "execution_count": 299,
     "metadata": {},
     "output_type": "execute_result"
    }
   ],
   "source": [
    "InitialSteps(x_train, y_train, 3, alpha = 0.00001)"
   ]
  },
  {
   "cell_type": "code",
   "execution_count": 319,
   "metadata": {},
   "outputs": [],
   "source": [
    "def nodes(T):\n",
    "\n",
    "    lc = list(T.tree_.children_left)\n",
    "    rc = list(T.tree_.children_right)\n",
    "\n",
    "    nodes = [0] + lc + rc # nodes are root + left children + right_children\n",
    "    nodes = list(set(nodes)) # but some children can be duplicates\n",
    "    nodes = np.setdiff1d(nodes, np.array(-1)) # also -1 is not a node but indicates a node doesn't exist\n",
    "\n",
    "    return nodes"
   ]
  },
  {
   "cell_type": "code",
   "execution_count": 324,
   "metadata": {},
   "outputs": [],
   "source": [
    "def shuffle(arr):\n",
    "    # need a fn for this because np.random.shuffle is not inplace\n",
    "    arr_copy = arr.copy()\n",
    "    np.random.shuffle(arr_copy)\n",
    "    return arr_copy "
   ]
  },
  {
   "cell_type": "code",
   "execution_count": 328,
   "metadata": {},
   "outputs": [],
   "source": [
    "def find_leaf_nodes(T, t):\n",
    "    # List to store the leaf nodes\n",
    "    leaf_nodes = []\n",
    "\n",
    "    # Recursive helper function\n",
    "    def explore(node):\n",
    "        # If this is a leaf node, add it to the list\n",
    "        if T.tree_.children_left[node] == T.tree_.children_right[node] == -1:\n",
    "            leaf_nodes.append(node)\n",
    "        \n",
    "        else:\n",
    "            # If this is a branch node, explore its children\n",
    "            if T.tree_.children_left[node] != -1:\n",
    "                explore(T.tree_.children_left[node])\n",
    "            if T.tree_.children_right[node] != -1:\n",
    "                explore(T.tree_.children_right[node])\n",
    "\n",
    "    # Start exploring from node t\n",
    "    explore(t)\n",
    "\n",
    "    return leaf_nodes"
   ]
  },
  {
   "cell_type": "code",
   "execution_count": 346,
   "metadata": {},
   "outputs": [],
   "source": [
    "def construct_I(T, X, nodes_in_T_t):\n",
    "\n",
    "    belongs_to = T.apply(X) # leaf node obs belong to\n",
    "\n",
    "    I = []\n",
    "\n",
    "    for i in range(X.shape[0]):\n",
    "\n",
    "        if belongs_to[i] in nodes_in_T_t:\n",
    "\n",
    "            I.append(i) \n",
    "    \n",
    "    return I"
   ]
  },
  {
   "cell_type": "code",
   "execution_count": 371,
   "metadata": {},
   "outputs": [
    {
     "data": {
      "text/plain": [
       "array([ 1,  2, -1, -1,  5, -1, -1], dtype=int64)"
      ]
     },
     "execution_count": 371,
     "metadata": {},
     "output_type": "execute_result"
    }
   ],
   "source": [
    "T.tree_.children_left"
   ]
  },
  {
   "cell_type": "code",
   "execution_count": null,
   "metadata": {},
   "outputs": [],
   "source": [
    "class Tree_Opt:\n",
    "\n",
    "    def __init__(self, X, y, min_leaf_size) -> None:\n",
    "        self.X = X\n",
    "        self.y = y\n",
    "        self.min_leaf_size = min_leaf_size\n",
    "\n",
    "    def OptimizeNodeParallel(self, id, X_I, y_I):\n",
    "\n",
    "        left_child, right_child = self.find_children(id)\n",
    "        \n",
    "        if left_child != -1 or right_child != -1: # not leaf\n",
    "            \n",
    "            T_para, error_para = self.BestParallelSplit(id, left_child,\n",
    "                                                        right_child, \n",
    "                                                        X_I, \n",
    "                                                        y_I)\n",
    "            \n",
    "        else:\n",
    "\n",
    "\n",
    "    def BestParallelSplit(self, id,\n",
    "                          left_child, \n",
    "                          right_child, \n",
    "                          X_I, \n",
    "                          y_I):\n",
    "        \n",
    "        n, p = X_I.shape\n",
    "        error_best = np.inf\n",
    "        tree_mod = T.copy()\n",
    "\n",
    "        for j in range(p):\n",
    "\n",
    "            values = X_I[:, j]\n",
    "            values = sorted(values)\n",
    "\n",
    "            for i in range(0, n):\n",
    "\n",
    "                b = (1/2)*(values[i] + values[i+1])\n",
    "\n",
    "                # For the jth feature, get all rows where the feature is greater than b\n",
    "                higher_than_b = X_I[:, j] > b\n",
    "\n",
    "                # And where it's lower than or equal to b\n",
    "                lower_or_equal_to_b = X_I[:, j] <= b\n",
    "                X_I_higher = X_I[higher_than_b]\n",
    "\n",
    "                X_I_lower = X_I[lower_or_equal_to_b]\n",
    "\n",
    "                if len(X_I_higher) > self.min_leaf_size and len(X_I_lower) > self.min_leaf_size:\n",
    "\n",
    "                    tree_mod.tree_.feature[id] = j\n",
    "                    tree_mod.tree_.threshold[id] = b\n",
    "                    rules = get_rules(tree_mod, list(orig_cols), None)\n",
    "                    for i, rule in enumerate(rules):\n",
    "                        self.X[f'rule_{i}'] = self.X.eval(rule).astype(int)\n",
    "\n",
    "                    rulefit = LinearRegression()\n",
    "                    rulefit.fit(self.X, self.y) # rulefit is LinReg because we added rules already :D\n",
    "                    SSE = mean_squared_error(rulefit.predict(self.X), self.y)\n",
    "\n",
    "                    if SSE < error_best:\n",
    "                        error_best = SSE\n",
    "                        best_tree = tree_mod\n",
    "\n",
    "\n",
    "\n",
    "\n",
    "\n",
    "\n",
    "\n",
    "                # Calculate loss and update error if current error is lower than error_best\n",
    "\n",
    "\n",
    "\n",
    "\n",
    "\n",
    "            \n",
    "\n",
    "\n",
    "    "
   ]
  },
  {
   "cell_type": "code",
   "execution_count": 372,
   "metadata": {},
   "outputs": [],
   "source": [
    "def find_children(self, id):\n",
    "\n",
    "    left_child_cand = [i for i in self.T.tree_.children_left if i > id]\n",
    "    right_child_cand  = [i for i in self.T.tree_.children_right if i > id]\n",
    "\n",
    "    left_children = list(set(left_child_cand))\n",
    "    right_children = list(set(right_child_cand))\n",
    "\n",
    "    if len(left_children) == 0:\n",
    "        left_children = [-1]\n",
    "    \n",
    "    if len(right_children) == 0:\n",
    "        right_children = [-1]\n",
    "    \n",
    "    return min(left_children), min(right_children)"
   ]
  },
  {
   "cell_type": "code",
   "execution_count": 349,
   "metadata": {},
   "outputs": [],
   "source": [
    "def LocalSearch(T, X, y, max_depth):\n",
    "    \n",
    "    # Extracting initial loss\n",
    "    error_prev = InitialSteps(X, y, max_depth, alpha = 0.00001)\n",
    "    \n",
    "    X = np.array(X)\n",
    "    y = np.array(y)\n",
    "    \n",
    "    for t in shuffle(nodes(T)):\n",
    "\n",
    "        nodes_in_T_t = find_leaf_nodes(T, t)\n",
    "\n",
    "        I = construct_I(T, X, nodes_in_T_t)\n",
    "\n",
    "        T_t = OptimizeNodeParallel(T_t, X[I], y[I])\n",
    "\n",
    "        \n",
    "\n",
    "        # Replace tth node in T with T_t\n",
    "\n",
    "\n"
   ]
  }
 ],
 "metadata": {
  "kernelspec": {
   "display_name": "Python 3",
   "language": "python",
   "name": "python3"
  },
  "language_info": {
   "codemirror_mode": {
    "name": "ipython",
    "version": 3
   },
   "file_extension": ".py",
   "mimetype": "text/x-python",
   "name": "python",
   "nbconvert_exporter": "python",
   "pygments_lexer": "ipython3",
   "version": "3.11.3"
  },
  "orig_nbformat": 4
 },
 "nbformat": 4,
 "nbformat_minor": 2
}
